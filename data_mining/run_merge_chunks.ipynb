{
 "cells": [
  {
   "cell_type": "markdown",
   "id": "89077021",
   "metadata": {},
   "source": [
    "### Combining query chunks of jobs, institution, and location"
   ]
  },
  {
   "cell_type": "code",
   "execution_count": 2,
   "id": "3459134b",
   "metadata": {},
   "outputs": [
    {
     "name": "stdout",
     "output_type": "stream",
     "text": [
      "Merging CSV files from '../data/subgroup_results' into '../data/merged_openalex_works_data.csv'...\n"
     ]
    },
    {
     "name": "stderr",
     "output_type": "stream",
     "text": [
      "Merging files: 100%|██████████| 3840/3840 [1:00:13<00:00,  1.06file/s]"
     ]
    },
    {
     "name": "stdout",
     "output_type": "stream",
     "text": [
      "Successfully merged all files into '../data/merged_openalex_works_data.csv'.\n",
      "\n",
      "Process completed.\n"
     ]
    },
    {
     "name": "stderr",
     "output_type": "stream",
     "text": [
      "\n"
     ]
    }
   ],
   "source": [
    "from merge_query_chunks import merge_csv_files\n",
    "# ------------------------------------------------------------------\n",
    "# Configuration\n",
    "# ------------------------------------------------------------------\n",
    "SUBGROUP_RESULTS_DIR = \"../data/subgroup_results\"\n",
    "MERGED_OUTPUT_FILE   = \"../data/merged_openalex_works_data.csv\"  # Final merged file\n",
    "\n",
    "merge_csv_files(SUBGROUP_RESULTS_DIR, MERGED_OUTPUT_FILE)\n",
    "print(\"\\nProcess completed.\")\n"
   ]
  }
 ],
 "metadata": {
  "kernelspec": {
   "display_name": "data_mining_project",
   "language": "python",
   "name": "python3"
  },
  "language_info": {
   "codemirror_mode": {
    "name": "ipython",
    "version": 3
   },
   "file_extension": ".py",
   "mimetype": "text/x-python",
   "name": "python",
   "nbconvert_exporter": "python",
   "pygments_lexer": "ipython3",
   "version": "3.11.13"
  }
 },
 "nbformat": 4,
 "nbformat_minor": 5
}
