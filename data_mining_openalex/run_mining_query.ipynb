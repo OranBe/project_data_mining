{
 "cells": [
  {
   "cell_type": "markdown",
   "id": "b67cce33",
   "metadata": {},
   "source": [
    "### Download all indexes of work table"
   ]
  },
  {
   "cell_type": "code",
   "execution_count": null,
   "id": "2856d8fb",
   "metadata": {},
   "outputs": [
    {
     "name": "stdout",
     "output_type": "stream",
     "text": [
      "Fetching all 'id' values from openalex.works and saving to ../data/works_ids_index123.csv...\n",
      "Finished saving all IDs to ../data/works_ids_index123.csv.\n"
     ]
    }
   ],
   "source": [
    "from queries.sequential_queries.get_all_work_ids import fetch_and_save_all_ids\n",
    "# -------------------------------------------\n",
    "# Configuration\n",
    "# -------------------------------------------\n",
    "INDEX_FILE_PATH = \"../data/works_ids_index_all.csv\"\n",
    "\n",
    "# Call the function to execute the task\n",
    "# fetch_and_save_all_ids(INDEX_FILE_PATH)"
   ]
  }
 ],
 "metadata": {
  "kernelspec": {
   "display_name": "data_mining_project",
   "language": "python",
   "name": "python3"
  },
  "language_info": {
   "codemirror_mode": {
    "name": "ipython",
    "version": 3
   },
   "file_extension": ".py",
   "mimetype": "text/x-python",
   "name": "python",
   "nbconvert_exporter": "python",
   "pygments_lexer": "ipython3",
   "version": "3.11.13"
  }
 },
 "nbformat": 4,
 "nbformat_minor": 5
}
