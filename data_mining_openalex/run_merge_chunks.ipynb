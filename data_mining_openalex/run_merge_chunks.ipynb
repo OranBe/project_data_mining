{
 "cells": [
  {
   "cell_type": "markdown",
   "id": "89077021",
   "metadata": {},
   "source": [
    "### Combining query chunks of jobs, institution, and location"
   ]
  },
  {
   "cell_type": "code",
   "execution_count": null,
   "id": "3459134b",
   "metadata": {},
   "outputs": [
    {
     "name": "stdout",
     "output_type": "stream",
     "text": [
      "Merging CSV files from '../data/q1/subgroup_results' into '../data/q1/merged_openalex_works_data.csv'...\n"
     ]
    },
    {
     "name": "stderr",
     "output_type": "stream",
     "text": [
      "Merging files: 100%|██████████| 10000/10000 [35:34<00:00,  4.69file/s] "
     ]
    },
    {
     "name": "stdout",
     "output_type": "stream",
     "text": [
      "Successfully merged all files into '../data/q1/merged_openalex_works_data.csv'.\n",
      "\n",
      "Process completed.\n"
     ]
    },
    {
     "name": "stderr",
     "output_type": "stream",
     "text": [
      "\n"
     ]
    }
   ],
   "source": [
    "from merge_query_chunks import merge_csv_files\n",
    "# ------------------------------------------------------------------\n",
    "# Configuration\n",
    "# --------------------------------------------------------------------\n",
    "SUBGROUP_RESULTS_DIR = \"../data/q1/subgroup_results\"\n",
    "MERGED_OUTPUT_FILE   = \"../data/q1/merged_openalex_works_data.csv\"  # Final merged file\n",
    "\n",
    "merge_csv_files(SUBGROUP_RESULTS_DIR, MERGED_OUTPUT_FILE)\n",
    "print(\"\\nProcess completed.\")\n"
   ]
  },
  {
   "cell_type": "code",
   "execution_count": 1,
   "id": "68a9d872",
   "metadata": {},
   "outputs": [
    {
     "name": "stdout",
     "output_type": "stream",
     "text": [
      "Merging CSV files from '../data/q2/subgroup_results' into '../data/q2/merged_openalex_works_data.csv'...\n"
     ]
    },
    {
     "name": "stderr",
     "output_type": "stream",
     "text": [
      "Merging files: 100%|██████████| 9903/9903 [1:00:40<00:00,  2.72file/s]"
     ]
    },
    {
     "name": "stdout",
     "output_type": "stream",
     "text": [
      "Successfully merged all files into '../data/q2/merged_openalex_works_data.csv'.\n",
      "\n",
      "Process completed.\n"
     ]
    },
    {
     "name": "stderr",
     "output_type": "stream",
     "text": [
      "\n"
     ]
    }
   ],
   "source": [
    "from merge_query_chunks import merge_csv_files\n",
    "# ------------------------------------------------------------------\n",
    "# Configuration\n",
    "# --------------------------------------------------------------------\n",
    "SUBGROUP_RESULTS_DIR = \"../data/q2/subgroup_results\"\n",
    "MERGED_OUTPUT_FILE   = \"../data/q2/merged_openalex_works_data.csv\"  # Final merged file\n",
    "\n",
    "merge_csv_files(SUBGROUP_RESULTS_DIR, MERGED_OUTPUT_FILE)\n",
    "print(\"\\nProcess completed.\")"
   ]
  }
 ],
 "metadata": {
  "kernelspec": {
   "display_name": "data_mining_project",
   "language": "python",
   "name": "python3"
  },
  "language_info": {
   "codemirror_mode": {
    "name": "ipython",
    "version": 3
   },
   "file_extension": ".py",
   "mimetype": "text/x-python",
   "name": "python",
   "nbconvert_exporter": "python",
   "pygments_lexer": "ipython3",
   "version": "3.11.8"
  }
 },
 "nbformat": 4,
 "nbformat_minor": 5
}
