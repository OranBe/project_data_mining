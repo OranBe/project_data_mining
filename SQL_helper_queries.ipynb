{
 "cells": [
  {
   "cell_type": "markdown",
   "id": "46715567",
   "metadata": {},
   "source": [
    "## SQL helper queries"
   ]
  },
  {
   "cell_type": "markdown",
   "id": "88152f9c",
   "metadata": {},
   "source": [
    "Analyzing the number of active connections to the database"
   ]
  },
  {
   "cell_type": "code",
   "execution_count": null,
   "id": "154b28a3",
   "metadata": {},
   "outputs": [],
   "source": [
    "WITH\n",
    "    cfg AS (\n",
    "        SELECT\n",
    "            current_setting('max_connections')::int                 AS max_conn,\n",
    "            current_setting('superuser_reserved_connections')::int  AS super_res\n",
    "    ),\n",
    "    used AS (\n",
    "        SELECT count(*) AS active_cnt FROM pg_stat_activity\n",
    "    )\n",
    "SELECT\n",
    "    super_res,\n",
    "    active_cnt,\n",
    "    (max_conn - super_res - active_cnt) AS free_for_normal_users\n",
    "FROM cfg, used;\n"
   ]
  },
  {
   "cell_type": "markdown",
   "id": "317221a2",
   "metadata": {},
   "source": [
    "Closes all user connections to the database."
   ]
  },
  {
   "cell_type": "code",
   "execution_count": null,
   "id": "5f2cfb20",
   "metadata": {},
   "outputs": [],
   "source": [
    "SELECT pg_terminate_backend(pid)\n",
    "FROM   pg_stat_activity\n",
    "WHERE  usename        = current_user      -- only terminate connections of your user\n",
    "  AND  pid <> pg_backend_pid();           -- do not terminate the current session\n"
   ]
  },
  {
   "cell_type": "markdown",
   "id": "2f0c34ea",
   "metadata": {},
   "source": [
    "Get information about all active connections"
   ]
  },
  {
   "cell_type": "code",
   "execution_count": null,
   "id": "842a23aa",
   "metadata": {},
   "outputs": [],
   "source": [
    "SELECT  pid,               -- process id (useful for pg_terminate_backend)\n",
    "        usename,           -- owning role / user\n",
    "        datname,           -- database name\n",
    "        application_name,  -- e.g. psql, psycopg2, JDBC\n",
    "        client_addr,       -- client IP (NULL = local)\n",
    "        backend_start,     -- when connection was established\n",
    "        state,             -- active | idle | idle in txn | ...\n",
    "        query              -- last statement (NULL if no privilege)\n",
    "FROM    pg_stat_activity\n",
    "ORDER BY usename, pid;\n"
   ]
  }
 ],
 "metadata": {
  "kernelspec": {
   "display_name": "data_mining_project",
   "language": "python",
   "name": "python3"
  },
  "language_info": {
   "codemirror_mode": {
    "name": "ipython",
    "version": 3
   },
   "file_extension": ".py",
   "mimetype": "text/x-python",
   "name": "python",
   "nbconvert_exporter": "python",
   "pygments_lexer": "ipython3",
   "version": "3.11.8"
  }
 },
 "nbformat": 4,
 "nbformat_minor": 5
}
